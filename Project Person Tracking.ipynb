{
 "cells": [
  {
   "cell_type": "code",
   "execution_count": 1,
   "id": "35f50895-5b7e-46fc-8fdf-479cd1d403bc",
   "metadata": {},
   "outputs": [],
   "source": [
    "import cv2\n",
    "import numpy as np\n",
    "import time\n",
    "from ultralytics import YOLO\n",
    "import tkinter as tk\n",
    "from tkinter import filedialog\n",
    "import os"
   ]
  },
  {
   "cell_type": "code",
   "execution_count": 2,
   "id": "eb42872e-7198-4d41-a824-553b0ed5723e",
   "metadata": {},
   "outputs": [],
   "source": [
    "models = ['yolov8n.pt', 'yolov8s.pt', 'yolov8m.pt', 'yolov8l.pt', 'yolov8x.pt']"
   ]
  },
  {
   "cell_type": "code",
   "execution_count": 3,
   "id": "670c106d-b185-4b23-91dc-5ff28a43f00f",
   "metadata": {},
   "outputs": [],
   "source": [
    "def calculate_iou(box1, box2):\n",
    "    # Calculate intersection over union\n",
    "    x1 = max(box1[0], box2[0])\n",
    "    y1 = max(box1[1], box2[1])\n",
    "    x2 = min(box1[2], box2[2])\n",
    "    y2 = min(box1[3], box2[3])\n",
    "\n",
    "    intersection = max(0, x2 - x1) * max(0, y2 - y1)\n",
    "    area1 = (box1[2] - box1[0]) * (box1[3] - box1[1])\n",
    "    area2 = (box2[2] - box2[0]) * (box2[3] - box2[1])\n",
    "    union = area1 + area2 - intersection\n",
    "\n",
    "    return intersection / union if union > 0 else 0"
   ]
  },
  {
   "cell_type": "code",
   "execution_count": 4,
   "id": "ecdffe9d-5b45-4261-adb3-a0003b0f98ee",
   "metadata": {},
   "outputs": [],
   "source": [
    "def calculate_map(detections, num_classes=1, iou_threshold=0.5, confidence_threshold=0.5):\n",
    "    if not detections:\n",
    "        return 0  # Return 0 if there are no detections\n",
    "\n",
    "    average_precisions = []\n",
    "    \n",
    "    for class_id in range(num_classes):\n",
    "        class_detections = [d for d in detections if d['class'] == class_id and d['confidence'] >= confidence_threshold]\n",
    "        if not class_detections:\n",
    "            continue\n",
    "        \n",
    "        class_detections.sort(key=lambda x: x['confidence'], reverse=True)\n",
    "        \n",
    "        num_gt = len(class_detections)  # Assuming each detection corresponds to a ground truth\n",
    "        true_positives = np.zeros(len(class_detections))\n",
    "        false_positives = np.zeros(len(class_detections))\n",
    "        \n",
    "        detected_gt = set()\n",
    "        \n",
    "        for i, detection in enumerate(class_detections):\n",
    "            best_iou = 0\n",
    "            best_gt_idx = -1\n",
    "            \n",
    "            for j, gt in enumerate(class_detections):\n",
    "                if j in detected_gt:\n",
    "                    continue\n",
    "                \n",
    "                iou = calculate_iou(detection['bbox'], gt['bbox'])\n",
    "                if iou > best_iou:\n",
    "                    best_iou = iou\n",
    "                    best_gt_idx = j\n",
    "            \n",
    "            if best_iou >= iou_threshold:\n",
    "                if best_gt_idx not in detected_gt:\n",
    "                    true_positives[i] = 1\n",
    "                    detected_gt.add(best_gt_idx)\n",
    "                else:\n",
    "                    false_positives[i] = 1\n",
    "            else:\n",
    "                false_positives[i] = 1\n",
    "        \n",
    "        cumulative_tp = np.cumsum(true_positives)\n",
    "        cumulative_fp = np.cumsum(false_positives)\n",
    "        \n",
    "        recalls = cumulative_tp / num_gt\n",
    "        precisions = cumulative_tp / (cumulative_tp + cumulative_fp)\n",
    "        \n",
    "        # Compute average precision\n",
    "        ap = 0\n",
    "        for t in np.arange(0, 1.1, 0.1):\n",
    "            if np.sum(recalls >= t) == 0:\n",
    "                p = 0\n",
    "            else:\n",
    "                p = np.max(precisions[recalls >= t])\n",
    "            ap = ap + p / 11\n",
    "        average_precisions.append(ap)\n",
    "    \n",
    "    if not average_precisions:\n",
    "        return 0  # Return 0 if no class had any detections\n",
    "    \n",
    "    return np.mean(average_precisions)\n"
   ]
  },
  {
   "cell_type": "code",
   "execution_count": 5,
   "id": "16eb5926-d18d-43e3-89c2-86a485b7b052",
   "metadata": {},
   "outputs": [],
   "source": [
    "def detect_people(frame, model, conf_threshold=0.5, iou_threshold=0.5):\n",
    "    start_time = time.time()\n",
    "    results = model(frame, conf=conf_threshold, iou=iou_threshold)\n",
    "    inference_time = time.time() - start_time\n",
    "    \n",
    "    person_count = 0\n",
    "    detections = []\n",
    "    for r in results:\n",
    "        boxes = r.boxes\n",
    "        for box in boxes:\n",
    "            if box.cls == 0:  # Class 0 adalah orang dalam dataset COCO\n",
    "                person_count += 1\n",
    "                x1, y1, x2, y2 = map(int, box.xyxy[0])\n",
    "                conf = float(box.conf)\n",
    "                cv2.rectangle(frame, (x1, y1), (x2, y2), (0, 255, 0), 2)\n",
    "                cv2.putText(frame, f\"Person: {conf:.2f}\", (x1, y1-10), cv2.FONT_HERSHEY_SIMPLEX, 0.9, (0,255,0), 2)\n",
    "                detections.append({\n",
    "                    'class': 0,\n",
    "                    'confidence': conf,\n",
    "                    'bbox': [x1, y1, x2, y2]\n",
    "                })\n",
    "    \n",
    "    cv2.putText(frame, f\"People: {person_count}\", (10, 30), cv2.FONT_HERSHEY_SIMPLEX, 1, (0,0,255), 2)\n",
    "    return frame, person_count, inference_time, detections"
   ]
  },
  {
   "cell_type": "code",
   "execution_count": 6,
   "id": "d1c2752f-e96c-4338-9cf4-a3815c0f2dce",
   "metadata": {},
   "outputs": [],
   "source": [
    "def process_webcam():\n",
    "    cap = cv2.VideoCapture(0)\n",
    "    \n",
    "    for model_name in models:\n",
    "        print(f\"\\nMenggunakan model: {model_name}\")\n",
    "        model = YOLO(model_name)\n",
    "        \n",
    "        frame_count = 0\n",
    "        total_inference_time = 0\n",
    "        total_person_count = 0\n",
    "        all_detections = []\n",
    "        \n",
    "        while True:\n",
    "            ret, frame = cap.read()\n",
    "            if not ret:\n",
    "                break\n",
    "            \n",
    "            frame_count += 1\n",
    "            frame_result, person_count, inference_time, detections = detect_people(frame, model)\n",
    "            \n",
    "            total_inference_time += inference_time\n",
    "            total_person_count += person_count\n",
    "            all_detections.extend(detections)\n",
    "            \n",
    "            cv2.putText(frame_result, f\"Model: {model_name}\", (10, 60), cv2.FONT_HERSHEY_SIMPLEX, 1, (0,0,255), 2)\n",
    "            cv2.putText(frame_result, f\"Inference Time: {inference_time:.4f}s\", (10, 90), cv2.FONT_HERSHEY_SIMPLEX, 1, (0,0,255), 2)\n",
    "            \n",
    "            cv2.imshow('Webcam Detection', frame_result)\n",
    "            \n",
    "            if cv2.waitKey(1) & 0xFF == ord('q') or frame_count >= 100:  # Process 100 frames\n",
    "                break\n",
    "        \n",
    "        avg_inference_time = total_inference_time / frame_count\n",
    "        avg_person_count = total_person_count / frame_count\n",
    "        estimated_map = calculate_map(all_detections)\n",
    "        \n",
    "        print(f\"Rata-rata jumlah orang terdeteksi per frame: {avg_person_count:.2f}\")\n",
    "        print(f\"Rata-rata inference time: {avg_inference_time:.4f} detik\")\n",
    "        print(f\"Estimated mAP: {estimated_map:.4f}\")\n",
    "        \n",
    "        if cv2.waitKey(1) & 0xFF == ord('q'):\n",
    "            break\n",
    "    \n",
    "    cap.release()\n",
    "    cv2.destroyAllWindows()"
   ]
  },
  {
   "cell_type": "code",
   "execution_count": 7,
   "id": "7ad4e870-6ded-43f2-8ebb-cf6ced05637b",
   "metadata": {},
   "outputs": [],
   "source": [
    "def process_image():\n",
    "    root = tk.Tk()\n",
    "    root.withdraw()\n",
    "    file_path = filedialog.askopenfilename()\n",
    "    \n",
    "    if not file_path:\n",
    "        print(\"Tidak ada file yang dipilih.\")\n",
    "        return\n",
    "    \n",
    "    img = cv2.imread(file_path)\n",
    "    \n",
    "    for model_name in models:\n",
    "        print(f\"\\nMenggunakan model: {model_name}\")\n",
    "        model = YOLO(model_name)\n",
    "        \n",
    "        start_time = time.time()\n",
    "        img_result, person_count, inference_time, detections = detect_people(img.copy(), model)\n",
    "        latency_time = time.time() - start_time\n",
    "        \n",
    "        estimated_map = calculate_map(detections)\n",
    "        \n",
    "        print(f\"Jumlah orang terdeteksi: {person_count}\")\n",
    "        print(f\"Inference time: {inference_time:.4f} detik\")\n",
    "        print(f\"Latency time: {latency_time:.4f} detik\")\n",
    "        print(f\"Estimated mAP: {estimated_map:.4f}\")\n",
    "        \n",
    "        cv2.imshow(f'Detection Result - {model_name}', img_result)\n",
    "        cv2.waitKey(0)\n",
    "    \n",
    "    cv2.destroyAllWindows()"
   ]
  },
  {
   "cell_type": "code",
   "execution_count": 8,
   "id": "6434706e-29b1-4e90-a5a0-849146b27b83",
   "metadata": {},
   "outputs": [],
   "source": [
    "def process_video():\n",
    "    root = tk.Tk()\n",
    "    root.withdraw()\n",
    "    file_path = filedialog.askopenfilename()\n",
    "    \n",
    "    if not file_path:\n",
    "        print(\"Tidak ada file yang dipilih.\")\n",
    "        return\n",
    "    \n",
    "    cap = cv2.VideoCapture(file_path)\n",
    "    \n",
    "    for model_name in models:\n",
    "        print(f\"\\nMenggunakan model: {model_name}\")\n",
    "        model = YOLO(model_name)\n",
    "        \n",
    "        frame_count = 0\n",
    "        total_inference_time = 0\n",
    "        total_person_count = 0\n",
    "        all_detections = []\n",
    "        \n",
    "        while True:\n",
    "            ret, frame = cap.read()\n",
    "            if not ret:\n",
    "                break\n",
    "            \n",
    "            frame_count += 1\n",
    "            \n",
    "            frame_result, person_count, inference_time, detections = detect_people(frame, model)\n",
    "            \n",
    "            total_inference_time += inference_time\n",
    "            total_person_count += person_count\n",
    "            all_detections.extend(detections)\n",
    "            \n",
    "            cv2.putText(frame_result, f\"Model: {model_name}\", (10, 60), cv2.FONT_HERSHEY_SIMPLEX, 1, (0,0,255), 2)\n",
    "            cv2.putText(frame_result, f\"Frame: {frame_count}\", (10, 90), cv2.FONT_HERSHEY_SIMPLEX, 1, (0,0,255), 2)\n",
    "            \n",
    "            cv2.imshow('Video Detection', frame_result)\n",
    "            \n",
    "            if cv2.waitKey(1) & 0xFF == ord('q'):\n",
    "                break\n",
    "        \n",
    "        avg_inference_time = total_inference_time / frame_count\n",
    "        avg_person_count = total_person_count / frame_count\n",
    "        estimated_map = calculate_map(all_detections)\n",
    "        \n",
    "        print(f\"Rata-rata jumlah orang terdeteksi per frame: {avg_person_count:.2f}\")\n",
    "        print(f\"Rata-rata inference time: {avg_inference_time:.4f} detik\")\n",
    "        print(f\"Estimated mAP: {estimated_map:.4f}\")\n",
    "        \n",
    "        if cv2.waitKey(1) & 0xFF == ord('q'):\n",
    "            break\n",
    "    \n",
    "    cap.release()\n",
    "    cv2.destroyAllWindows()"
   ]
  },
  {
   "cell_type": "code",
   "execution_count": null,
   "id": "2c6e2f33-8b99-4cae-9fe5-aeacb0cfdd41",
   "metadata": {},
   "outputs": [
    {
     "name": "stdout",
     "output_type": "stream",
     "text": [
      "\n",
      "Pilih mode:\n",
      "1. Deteksi menggunakan webcam\n",
      "2. Deteksi pada gambar\n",
      "3. Deteksi pada video\n",
      "4. Keluar\n"
     ]
    },
    {
     "name": "stdin",
     "output_type": "stream",
     "text": [
      "Masukkan pilihan (1/2/3/4):  2\n"
     ]
    },
    {
     "name": "stdout",
     "output_type": "stream",
     "text": [
      "\n",
      "Menggunakan model: yolov8n.pt\n",
      "Downloading https://github.com/ultralytics/assets/releases/download/v8.2.0/yolov8n.pt to 'yolov8n.pt'...\n"
     ]
    },
    {
     "name": "stderr",
     "output_type": "stream",
     "text": [
      "100%|██████████| 6.25M/6.25M [00:03<00:00, 1.71MB/s]\n"
     ]
    },
    {
     "name": "stdout",
     "output_type": "stream",
     "text": [
      "\n",
      "0: 480x640 2 persons, 61.4ms\n",
      "Speed: 4.0ms preprocess, 61.4ms inference, 142.2ms postprocess per image at shape (1, 3, 480, 640)\n",
      "Jumlah orang terdeteksi: 2\n",
      "Inference time: 2.5646 detik\n",
      "Latency time: 2.6032 detik\n",
      "Estimated mAP: 1.0000\n",
      "\n",
      "Menggunakan model: yolov8s.pt\n",
      "Downloading https://github.com/ultralytics/assets/releases/download/v8.2.0/yolov8s.pt to 'yolov8s.pt'...\n"
     ]
    },
    {
     "name": "stderr",
     "output_type": "stream",
     "text": [
      "100%|██████████| 21.5M/21.5M [00:12<00:00, 1.85MB/s]\n"
     ]
    },
    {
     "name": "stdout",
     "output_type": "stream",
     "text": [
      "\n",
      "0: 480x640 2 persons, 1 clock, 56.1ms\n",
      "Speed: 3.9ms preprocess, 56.1ms inference, 2.0ms postprocess per image at shape (1, 3, 480, 640)\n",
      "Jumlah orang terdeteksi: 2\n",
      "Inference time: 0.2845 detik\n",
      "Latency time: 0.2870 detik\n",
      "Estimated mAP: 1.0000\n",
      "\n",
      "Menggunakan model: yolov8m.pt\n",
      "Downloading https://github.com/ultralytics/assets/releases/download/v8.2.0/yolov8m.pt to 'yolov8m.pt'...\n"
     ]
    },
    {
     "name": "stderr",
     "output_type": "stream",
     "text": [
      "100%|██████████| 49.7M/49.7M [00:09<00:00, 5.46MB/s]\n"
     ]
    },
    {
     "name": "stdout",
     "output_type": "stream",
     "text": [
      "\n",
      "0: 480x640 2 persons, 63.6ms\n",
      "Speed: 4.0ms preprocess, 63.6ms inference, 2.0ms postprocess per image at shape (1, 3, 480, 640)\n",
      "Jumlah orang terdeteksi: 2\n",
      "Inference time: 0.4362 detik\n",
      "Latency time: 0.4377 detik\n",
      "Estimated mAP: 1.0000\n",
      "\n",
      "Menggunakan model: yolov8l.pt\n",
      "Downloading https://github.com/ultralytics/assets/releases/download/v8.2.0/yolov8l.pt to 'yolov8l.pt'...\n"
     ]
    },
    {
     "name": "stderr",
     "output_type": "stream",
     "text": [
      "100%|██████████| 83.7M/83.7M [00:26<00:00, 3.28MB/s]\n"
     ]
    },
    {
     "name": "stdout",
     "output_type": "stream",
     "text": [
      "\n",
      "0: 480x640 2 persons, 1 clock, 44.6ms\n",
      "Speed: 6.5ms preprocess, 44.6ms inference, 0.0ms postprocess per image at shape (1, 3, 480, 640)\n",
      "Jumlah orang terdeteksi: 2\n",
      "Inference time: 0.5957 detik\n",
      "Latency time: 0.5967 detik\n",
      "Estimated mAP: 1.0000\n",
      "\n",
      "Menggunakan model: yolov8x.pt\n",
      "Downloading https://github.com/ultralytics/assets/releases/download/v8.2.0/yolov8x.pt to 'yolov8x.pt'...\n"
     ]
    },
    {
     "name": "stderr",
     "output_type": "stream",
     "text": [
      "100%|██████████| 131M/131M [00:11<00:00, 11.5MB/s] \n"
     ]
    },
    {
     "name": "stdout",
     "output_type": "stream",
     "text": [
      "\n",
      "0: 480x640 2 persons, 1 clock, 50.7ms\n",
      "Speed: 2.0ms preprocess, 50.7ms inference, 0.0ms postprocess per image at shape (1, 3, 480, 640)\n",
      "Jumlah orang terdeteksi: 2\n",
      "Inference time: 0.8188 detik\n",
      "Latency time: 0.8198 detik\n",
      "Estimated mAP: 1.0000\n",
      "\n",
      "Pilih mode:\n",
      "1. Deteksi menggunakan webcam\n",
      "2. Deteksi pada gambar\n",
      "3. Deteksi pada video\n",
      "4. Keluar\n"
     ]
    }
   ],
   "source": [
    "def main():\n",
    "    while True:\n",
    "        print(\"\\nPilih mode:\")\n",
    "        print(\"1. Deteksi menggunakan webcam\")\n",
    "        print(\"2. Deteksi pada gambar\")\n",
    "        print(\"3. Deteksi pada video\")\n",
    "        print(\"4. Keluar\")\n",
    "        \n",
    "        choice = input(\"Masukkan pilihan (1/2/3/4): \")\n",
    "        \n",
    "        if choice == '1':\n",
    "            process_webcam()\n",
    "        elif choice == '2':\n",
    "            process_image()\n",
    "        elif choice == '3':\n",
    "            process_video()\n",
    "        elif choice == '4':\n",
    "            break\n",
    "        else:\n",
    "            print(\"Pilihan tidak valid. Silakan coba lagi.\")\n",
    "\n",
    "if __name__ == \"__main__\":\n",
    "    main()"
   ]
  }
 ],
 "metadata": {
  "kernelspec": {
   "display_name": "Python 3 (ipykernel)",
   "language": "python",
   "name": "python3"
  },
  "language_info": {
   "codemirror_mode": {
    "name": "ipython",
    "version": 3
   },
   "file_extension": ".py",
   "mimetype": "text/x-python",
   "name": "python",
   "nbconvert_exporter": "python",
   "pygments_lexer": "ipython3",
   "version": "3.12.3"
  }
 },
 "nbformat": 4,
 "nbformat_minor": 5
}
